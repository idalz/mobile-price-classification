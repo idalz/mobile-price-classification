{
 "cells": [
  {
   "cell_type": "code",
   "execution_count": 1,
   "metadata": {},
   "outputs": [],
   "source": [
    "import os\n",
    "from mobilePriceRangePrediction.constants import *\n",
    "from mobilePriceRangePrediction.utils.common import read_yaml, create_directories, save_object\n",
    "from typing import List"
   ]
  },
  {
   "cell_type": "code",
   "execution_count": 2,
   "metadata": {},
   "outputs": [],
   "source": [
    "os.chdir(\"../\")"
   ]
  },
  {
   "cell_type": "code",
   "execution_count": 3,
   "metadata": {},
   "outputs": [
    {
     "data": {
      "text/plain": [
       "'e:\\\\DataScienceProjects\\\\mobile-price-range-prediction'"
      ]
     },
     "execution_count": 3,
     "metadata": {},
     "output_type": "execute_result"
    }
   ],
   "source": [
    "%pwd"
   ]
  },
  {
   "cell_type": "code",
   "execution_count": 4,
   "metadata": {},
   "outputs": [],
   "source": [
    "from dataclasses import dataclass\n",
    "from pathlib import Path\n",
    "\n",
    "@dataclass(frozen=True)\n",
    "class ModelTrainerConfig:\n",
    "    root_dir: Path\n",
    "    data_path: Path"
   ]
  },
  {
   "cell_type": "code",
   "execution_count": 5,
   "metadata": {},
   "outputs": [],
   "source": [
    "class ConfigurationManager:\n",
    "    def __init__(\n",
    "        self,\n",
    "        config_filepath = CONFIG_FILE_PATH,\n",
    "        params_filepath = PARAMS_FILE_PATH):\n",
    "\n",
    "        self.config = read_yaml(config_filepath)\n",
    "        self.params = read_yaml(params_filepath)\n",
    "\n",
    "        create_directories([self.config.artifacts_root])\n",
    "\n",
    "    def get_model_trainer_config(self) -> ModelTrainerConfig:\n",
    "        config = self.config.model_trainer\n",
    "\n",
    "        create_directories([config.root_dir])\n",
    "\n",
    "        model_trainer_config = ModelTrainerConfig(\n",
    "            root_dir=config.root_dir,\n",
    "            data_path=config.data_path\n",
    "        )\n",
    "\n",
    "        return model_trainer_config"
   ]
  },
  {
   "cell_type": "code",
   "execution_count": 28,
   "metadata": {},
   "outputs": [],
   "source": [
    "from mobilePriceRangePrediction.utils.common import save_object ,load_object\n",
    "from sklearn.metrics import f1_score\n",
    "\n",
    "from sklearn.linear_model import LogisticRegression\n",
    "from sklearn.tree import DecisionTreeClassifier\n",
    "from sklearn.ensemble import RandomForestClassifier, GradientBoostingClassifier, AdaBoostClassifier, ExtraTreesClassifier\n",
    "from sklearn.svm import SVC\n",
    "from sklearn.neighbors import KNeighborsClassifier\n",
    "from sklearn.naive_bayes import GaussianNB\n",
    "from xgboost import XGBClassifier\n",
    "from catboost import CatBoostClassifier"
   ]
  },
  {
   "cell_type": "code",
   "execution_count": 29,
   "metadata": {},
   "outputs": [],
   "source": [
    "class ModelTrainer:\n",
    "    def __init__(self, config: ModelTrainerConfig):\n",
    "        self.config = config\n",
    "\n",
    "    def train(self):\n",
    "        ### Get processed data\n",
    "        train_arr = load_object(self.config.data_path+'/train_arr.pkl')\n",
    "        test_arr = load_object(self.config.data_path+'/test_arr.pkl')\n",
    "\n",
    "        X_train, y_train = train_arr[:,:-1], train_arr[:,-1]\n",
    "        X_test, y_test = test_arr[:,:-1], test_arr[:,-1]\n",
    "        models = {\n",
    "            'Logistic Regression': LogisticRegression(),\n",
    "            'Decision Trees': DecisionTreeClassifier(),\n",
    "            'Random Forest': RandomForestClassifier(),\n",
    "            'Gradient Boosting Machines (GBM)': GradientBoostingClassifier(),\n",
    "            'Support Vector Machines (SVM)': SVC(),\n",
    "            'K-Nearest Neighbors (KNN)': KNeighborsClassifier(),\n",
    "            'Naive Bayes': GaussianNB(),\n",
    "            'AdaBoost': AdaBoostClassifier(),\n",
    "            'Extra Trees Classifier': ExtraTreesClassifier(),\n",
    "            'XGBoost': XGBClassifier(),\n",
    "            'CatBoost': CatBoostClassifier(verbose=False)\n",
    "        }\n",
    "\n",
    "        model_report:dict = self.evaluate_models(\n",
    "            X_train=X_train, y_train=y_train, \n",
    "            X_test=X_test, y_test=y_test,\n",
    "            models=models\n",
    "        )\n",
    "\n",
    "        best_model_score = max(sorted(model_report.values()))\n",
    "        best_model_name = list(model_report.keys())[\n",
    "            list(model_report.values()).index(best_model_score)\n",
    "        ]\n",
    "\n",
    "        best_model = models[best_model_name]\n",
    "\n",
    "        save_object(\n",
    "            file_path=os.path.join(self.config.root_dir,'model.pkl'),\n",
    "            obj = best_model\n",
    "        )\n",
    "\n",
    "    def evaluate_models(self, X_train, y_train, X_test, y_test, models):\n",
    "        report = {}\n",
    "            \n",
    "        for name, model in models.items():\n",
    "            model.fit(X_train, y_train)\n",
    "            y_pred = model.predict(X_test)\n",
    "            test_model_score = f1_score(y_test, y_pred, average='micro')\n",
    "            report[name] = test_model_score\n",
    "\n",
    "        return report\n"
   ]
  },
  {
   "cell_type": "code",
   "execution_count": 30,
   "metadata": {},
   "outputs": [
    {
     "name": "stdout",
     "output_type": "stream",
     "text": [
      "[2024-03-25 19:33:17,072: INFO: common: yaml file: config\\config.yaml loaded successfully.]\n",
      "[2024-03-25 19:33:17,073: INFO: common: yaml file: params.yaml loaded successfully.]\n",
      "[2024-03-25 19:33:17,074: INFO: common: Created directory at: artifacts]\n",
      "[2024-03-25 19:33:17,075: INFO: common: Created directory at: artifacts/model]\n",
      "[1. 2. 0. ... 2. 3. 1.]\n",
      "[1. 2. 0. ... 2. 3. 1.]\n"
     ]
    }
   ],
   "source": [
    "try:\n",
    "    config = ConfigurationManager()\n",
    "    model_trainer_config = config.get_model_trainer_config()\n",
    "    model_trainer_config = ModelTrainer(config=model_trainer_config)\n",
    "    model_trainer_config.train()\n",
    "except Exception as e:\n",
    "    raise e"
   ]
  },
  {
   "cell_type": "code",
   "execution_count": null,
   "metadata": {},
   "outputs": [],
   "source": []
  }
 ],
 "metadata": {
  "kernelspec": {
   "display_name": "Python 3",
   "language": "python",
   "name": "python3"
  },
  "language_info": {
   "codemirror_mode": {
    "name": "ipython",
    "version": 3
   },
   "file_extension": ".py",
   "mimetype": "text/x-python",
   "name": "python",
   "nbconvert_exporter": "python",
   "pygments_lexer": "ipython3",
   "version": "3.8.19"
  }
 },
 "nbformat": 4,
 "nbformat_minor": 2
}
