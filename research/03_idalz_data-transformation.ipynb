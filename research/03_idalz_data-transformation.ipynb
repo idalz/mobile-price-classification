{
 "cells": [
  {
   "cell_type": "code",
   "execution_count": 1,
   "metadata": {},
   "outputs": [],
   "source": [
    "import os\n",
    "from mobilePriceRangePrediction.constants import *\n",
    "from mobilePriceRangePrediction.utils.common import read_yaml, create_directories, save_object\n",
    "from typing import List"
   ]
  },
  {
   "cell_type": "code",
   "execution_count": 2,
   "metadata": {},
   "outputs": [],
   "source": [
    "os.chdir(\"../\")"
   ]
  },
  {
   "cell_type": "code",
   "execution_count": 3,
   "metadata": {},
   "outputs": [
    {
     "data": {
      "text/plain": [
       "'e:\\\\DataScienceProjects\\\\mobile-price-range-prediction'"
      ]
     },
     "execution_count": 3,
     "metadata": {},
     "output_type": "execute_result"
    }
   ],
   "source": [
    "%pwd"
   ]
  },
  {
   "cell_type": "code",
   "execution_count": 4,
   "metadata": {},
   "outputs": [],
   "source": [
    "from dataclasses import dataclass\n",
    "from pathlib import Path\n",
    "\n",
    "@dataclass(frozen=True)\n",
    "class DataTransformationConfig:\n",
    "    root_dir: Path\n",
    "    raw_data_path: Path\n",
    "    validation_status: str\n",
    "    local_data_file: Path\n",
    "    "
   ]
  },
  {
   "cell_type": "code",
   "execution_count": 5,
   "metadata": {},
   "outputs": [],
   "source": [
    "class ConfigurationManager:\n",
    "    def __init__(\n",
    "        self,\n",
    "        config_filepath = CONFIG_FILE_PATH,\n",
    "        params_filepath = PARAMS_FILE_PATH):\n",
    "\n",
    "        self.config = read_yaml(config_filepath)\n",
    "        self.params = read_yaml(params_filepath)\n",
    "\n",
    "        create_directories([self.config.artifacts_root])\n",
    "\n",
    "    def get_data_transformation_config(self) -> DataTransformationConfig:\n",
    "        config = self.config.data_transformation\n",
    "\n",
    "        create_directories([config.root_dir])\n",
    "\n",
    "        data_transformation_config = DataTransformationConfig(\n",
    "            root_dir=config.root_dir,\n",
    "            raw_data_path=config.raw_data_path,\n",
    "            validation_status=config.validation_status,\n",
    "            local_data_file=config.local_data_file\n",
    "        )\n",
    "\n",
    "        return data_transformation_config"
   ]
  },
  {
   "cell_type": "code",
   "execution_count": 6,
   "metadata": {},
   "outputs": [],
   "source": [
    "import numpy as np\n",
    "import pandas as pd\n",
    "from mobilePriceRangePrediction.logging import logger\n",
    "from sklearn.model_selection import train_test_split\n",
    "from sklearn.impute import SimpleImputer\n",
    "from sklearn.preprocessing import StandardScaler, OneHotEncoder\n",
    "from sklearn.pipeline import Pipeline\n",
    "from sklearn.compose import ColumnTransformer"
   ]
  },
  {
   "cell_type": "code",
   "execution_count": 7,
   "metadata": {},
   "outputs": [],
   "source": [
    "class DataTransformation:\n",
    "    def __init__(self, config: DataTransformationConfig):\n",
    "        self.config = config\n",
    "\n",
    "    def transform_data(self):\n",
    "        ### Check validation status\n",
    "        with open(self.config.validation_status, 'r') as file:\n",
    "            validation_status = file.read().strip()\n",
    "            if not validation_status:\n",
    "                logger.info('Dataset failed at validation.')\n",
    "                return \n",
    "        ### Read raw data\n",
    "        raw_data = self.config.raw_data_path+'/train.csv'\n",
    "        df = pd.read_csv(raw_data)\n",
    "\n",
    "        ### Split the data\n",
    "        train_df, test_df = train_test_split(df, test_size=0.2, random_state=42)\n",
    "\n",
    "        ### Preprocess the data\n",
    "        # Clean Data\n",
    "        train_df = self.get_clean_data(train_df)\n",
    "        test_df = self.get_clean_data(test_df)\n",
    "\n",
    "        # Transform data\n",
    "        target_feature = 'price_range'\n",
    "        num_features = train_df.drop(target_feature, axis=1).select_dtypes(include='number').columns\n",
    "        cat_features = train_df.select_dtypes(include='object').columns \n",
    "        \n",
    "        preprocessor = self.get_data_tranformer_object(num_features,cat_features)\n",
    "        \n",
    "        input_feature_train_df = train_df.drop(columns=[target_feature])\n",
    "        target_feature_train_df = train_df[target_feature]\n",
    "\n",
    "        input_feature_test_df = test_df.drop(columns=[target_feature])\n",
    "        target_feature_test_df = test_df[target_feature]\n",
    "        \n",
    "        input_feature_train_arr = preprocessor.fit_transform(input_feature_train_df)\n",
    "        target_feature_train_arr = np.array(target_feature_train_df)\n",
    "\n",
    "        inpute_feature_test_arr = preprocessor.transform(input_feature_test_df)\n",
    "        target_feature_test_arr = np.array(target_feature_test_df)\n",
    "\n",
    "        train_arr = np.c_[input_feature_train_arr, target_feature_train_arr]\n",
    "        test_arr = np.c_[inpute_feature_test_arr, target_feature_test_arr]\n",
    "        \n",
    "        ### Save the data\n",
    "        save_object(\n",
    "            file_path = os.path.join(self.config.local_data_file,'train_arr.pkl'),\n",
    "            obj = train_arr\n",
    "        )\n",
    "\n",
    "        save_object(\n",
    "            file_path = os.path.join(self.config.local_data_file,'test_arr.pkl'),\n",
    "            obj = test_arr\n",
    "        )\n",
    "\n",
    "    def get_clean_data(self, data):\n",
    "        \"\"\"\n",
    "        This function returns the cleaned data\n",
    "        \"\"\"\n",
    "        replace_map = {0: 'No', 1: 'Yes'}\n",
    "        features_to_replace = ['blue', 'dual_sim', 'four_g', 'three_g', 'touch_screen', 'wifi']\n",
    "        data[features_to_replace] = data[features_to_replace].replace(replace_map)\n",
    "        return data\n",
    "    \n",
    "    def get_data_tranformer_object(self, num_features, cat_features):\n",
    "        \"\"\"\n",
    "        This function is responsible for creating a preprocessor object\n",
    "        \"\"\"\n",
    "        num_pipeline = Pipeline(\n",
    "            steps=[\n",
    "                ('imputer', SimpleImputer(strategy='median')),\n",
    "                ('scaler', StandardScaler())\n",
    "            ]\n",
    "        )\n",
    "\n",
    "        cat_pipeline = Pipeline(\n",
    "            steps=[\n",
    "                ('imputer', SimpleImputer(strategy='most_frequent')),\n",
    "                ('ohe', OneHotEncoder(handle_unknown='ignore', drop='first'))\n",
    "            ]\n",
    "        )\n",
    "\n",
    "        preprocessor = ColumnTransformer(\n",
    "            transformers=[\n",
    "                ('num_pipeline', num_pipeline, num_features),\n",
    "                ('cat_pipeline', cat_pipeline, cat_features)\n",
    "            ],\n",
    "            remainder='drop'\n",
    "        )\n",
    "\n",
    "        return preprocessor    "
   ]
  },
  {
   "cell_type": "code",
   "execution_count": 8,
   "metadata": {},
   "outputs": [
    {
     "name": "stdout",
     "output_type": "stream",
     "text": [
      "[2024-03-25 17:50:39,443: INFO: common: yaml file: config\\config.yaml loaded successfully.]\n",
      "[2024-03-25 17:50:39,445: INFO: common: yaml file: params.yaml loaded successfully.]\n",
      "[2024-03-25 17:50:39,446: INFO: common: Created directory at: artifacts]\n",
      "[2024-03-25 17:50:39,447: INFO: common: Created directory at: artifacts/data]\n"
     ]
    }
   ],
   "source": [
    "config = ConfigurationManager()\n",
    "data_transformation_config = config.get_data_transformation_config()\n",
    "data_transformation = DataTransformation(config=data_transformation_config)\n",
    "data_transformation.transform_data()"
   ]
  },
  {
   "cell_type": "code",
   "execution_count": null,
   "metadata": {},
   "outputs": [],
   "source": []
  }
 ],
 "metadata": {
  "kernelspec": {
   "display_name": "Python 3",
   "language": "python",
   "name": "python3"
  },
  "language_info": {
   "codemirror_mode": {
    "name": "ipython",
    "version": 3
   },
   "file_extension": ".py",
   "mimetype": "text/x-python",
   "name": "python",
   "nbconvert_exporter": "python",
   "pygments_lexer": "ipython3",
   "version": "3.8.19"
  }
 },
 "nbformat": 4,
 "nbformat_minor": 2
}
