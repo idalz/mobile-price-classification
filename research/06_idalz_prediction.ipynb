{
 "cells": [
  {
   "cell_type": "code",
   "execution_count": 1,
   "metadata": {},
   "outputs": [],
   "source": [
    "import os"
   ]
  },
  {
   "cell_type": "code",
   "execution_count": 2,
   "metadata": {},
   "outputs": [],
   "source": [
    "os.chdir(\"../\")"
   ]
  },
  {
   "cell_type": "code",
   "execution_count": 3,
   "metadata": {},
   "outputs": [
    {
     "data": {
      "text/plain": [
       "'e:\\\\DataScienceProjects\\\\mobile-price-range-prediction'"
      ]
     },
     "execution_count": 3,
     "metadata": {},
     "output_type": "execute_result"
    }
   ],
   "source": [
    "%pwd"
   ]
  },
  {
   "cell_type": "code",
   "execution_count": 4,
   "metadata": {},
   "outputs": [],
   "source": [
    "from dataclasses import dataclass\n",
    "from pathlib import Path\n",
    "\n",
    "@dataclass(frozen=True)\n",
    "class ModelPredictionConfig:\n",
    "    root_dir: Path\n",
    "    preprocessor_path: Path\n",
    "    model_path: Path"
   ]
  },
  {
   "cell_type": "code",
   "execution_count": 5,
   "metadata": {},
   "outputs": [],
   "source": [
    "from mobilePriceRangePrediction.constants import *\n",
    "from mobilePriceRangePrediction.utils.common import read_yaml, create_directories\n",
    "\n",
    "class ConfigurationManager:\n",
    "    def __init__(\n",
    "        self,\n",
    "        config_filepath = CONFIG_FILE_PATH,\n",
    "        params_filepath = PARAMS_FILE_PATH):\n",
    "\n",
    "        self.config = read_yaml(config_filepath)\n",
    "        self.params = read_yaml(params_filepath)\n",
    "\n",
    "        create_directories([self.config.artifacts_root])\n",
    "\n",
    "    def get_prediction_config(self) -> ModelPredictionConfig:\n",
    "        config = self.config.prediction\n",
    "\n",
    "        create_directories([config.root_dir])\n",
    "\n",
    "        prediction_config = ModelPredictionConfig(\n",
    "            root_dir=config.root_dir,\n",
    "            preprocessor_path=config.preprocessor_path,\n",
    "            model_path=config.model_path,\n",
    "        )\n",
    "\n",
    "        return prediction_config"
   ]
  },
  {
   "cell_type": "code",
   "execution_count": null,
   "metadata": {},
   "outputs": [],
   "source": [
    "from mobilePriceRangePrediction.utils.common import load_object\n",
    "\n",
    "class PredictionPipeline:\n",
    "    def __init__(self, config: ModelPredictionConfig):\n",
    "        self.config=config\n",
    "\n",
    "    def predict(self, data):\n",
    "        # Get the preprocessor\n",
    "        preprocessor = load_object(self.config.preprocessor_path)\n",
    "        \n",
    "        # Get the model\n",
    "        model = load_object(self.config.model_path)\n",
    "\n",
    "        # Transform the data\n",
    "        transformed_data = preprocessor.transform(data)\n",
    "\n",
    "        # Make the prediction\n",
    "        prediction = model.predict(transformed_data)\n",
    "\n",
    "        return prediction"
   ]
  }
 ],
 "metadata": {
  "kernelspec": {
   "display_name": "Python 3",
   "language": "python",
   "name": "python3"
  },
  "language_info": {
   "codemirror_mode": {
    "name": "ipython",
    "version": 3
   },
   "file_extension": ".py",
   "mimetype": "text/x-python",
   "name": "python",
   "nbconvert_exporter": "python",
   "pygments_lexer": "ipython3",
   "version": "3.8.19"
  }
 },
 "nbformat": 4,
 "nbformat_minor": 2
}
