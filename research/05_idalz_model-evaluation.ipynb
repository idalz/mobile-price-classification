{
 "cells": [
  {
   "cell_type": "code",
   "execution_count": 1,
   "metadata": {},
   "outputs": [],
   "source": [
    "import os"
   ]
  },
  {
   "cell_type": "code",
   "execution_count": 2,
   "metadata": {},
   "outputs": [],
   "source": [
    "os.chdir(\"../\")"
   ]
  },
  {
   "cell_type": "code",
   "execution_count": 3,
   "metadata": {},
   "outputs": [
    {
     "data": {
      "text/plain": [
       "'e:\\\\DataScienceProjects\\\\mobile-price-range-prediction'"
      ]
     },
     "execution_count": 3,
     "metadata": {},
     "output_type": "execute_result"
    }
   ],
   "source": [
    "%pwd"
   ]
  },
  {
   "cell_type": "code",
   "execution_count": 4,
   "metadata": {},
   "outputs": [],
   "source": [
    "from dataclasses import dataclass\n",
    "from pathlib import Path\n",
    "\n",
    "@dataclass(frozen=True)\n",
    "class ModelEvaluationConfig:\n",
    "    root_dir: Path\n",
    "    data_path: Path\n",
    "    model_path: Path\n",
    "    metric_file_name: Path"
   ]
  },
  {
   "cell_type": "code",
   "execution_count": 5,
   "metadata": {},
   "outputs": [],
   "source": [
    "from mobilePriceRangePrediction.constants import *\n",
    "from mobilePriceRangePrediction.utils.common import read_yaml, create_directories, load_object, save_object\n",
    "\n",
    "class ConfigurationManager:\n",
    "    def __init__(\n",
    "        self,\n",
    "        config_filepath = CONFIG_FILE_PATH,\n",
    "        params_filepath = PARAMS_FILE_PATH):\n",
    "\n",
    "        self.config = read_yaml(config_filepath)\n",
    "        self.params = read_yaml(params_filepath)\n",
    "\n",
    "        create_directories([self.config.artifacts_root])\n",
    "\n",
    "    def get_model_evaluation_config(self) -> ModelEvaluationConfig:\n",
    "        config = self.config.model_evaluation\n",
    "\n",
    "        create_directories([config.root_dir])\n",
    "\n",
    "        model_evaluation_config = ModelEvaluationConfig(\n",
    "            root_dir=config.root_dir,\n",
    "            data_path=config.data_path,\n",
    "            model_path = config.model_path,\n",
    "            metric_file_name = config.metric_file_name\n",
    "        )\n",
    "\n",
    "        return model_evaluation_config"
   ]
  },
  {
   "cell_type": "code",
   "execution_count": 6,
   "metadata": {},
   "outputs": [],
   "source": [
    "from mobilePriceRangePrediction.utils.common import save_object ,load_object\n",
    "from sklearn.metrics import f1_score, recall_score, precision_score\n",
    "import pandas as pd\n"
   ]
  },
  {
   "cell_type": "code",
   "execution_count": 10,
   "metadata": {},
   "outputs": [],
   "source": [
    "class ModelEvaluation:\n",
    "    def __init__(self, config: ModelEvaluationConfig):\n",
    "        self.config = config\n",
    "\n",
    "    def evaluate_model(self):\n",
    "        # Get test data\n",
    "        test_arr = load_object(self.config.data_path+'/test_arr.pkl')\n",
    "        X_test, y_test = test_arr[:,:-1], test_arr[:,-1]\n",
    "\n",
    "        # Get the model\n",
    "        model = load_object(self.config.model_path+'/model.pkl')\n",
    "        y_pred = model.predict(X_test)\n",
    "        \n",
    "        # Evaluate model\n",
    "        f1 = f1_score(y_test, y_pred, average='micro')\n",
    "        precision = precision_score(y_test, y_pred, average='micro')\n",
    "        recall = recall_score(y_test, y_pred, average='micro')\n",
    "        \n",
    "        # Save as csv\n",
    "        metrics_df = pd.DataFrame({\n",
    "            'micro_F1_Score': [f1],\n",
    "            'micro_Precision': [precision],\n",
    "            'micro_Recall': [recall]\n",
    "        })\n",
    "        metrics_df.to_csv(self.config.metric_file_name, index=False)  "
   ]
  },
  {
   "cell_type": "code",
   "execution_count": 11,
   "metadata": {},
   "outputs": [
    {
     "name": "stdout",
     "output_type": "stream",
     "text": [
      "[2024-03-26 18:12:27,328: INFO: common: yaml file: config\\config.yaml loaded successfully.]\n",
      "[2024-03-26 18:12:27,330: INFO: common: yaml file: params.yaml loaded successfully.]\n",
      "[2024-03-26 18:12:27,331: INFO: common: Created directory at: artifacts]\n",
      "[2024-03-26 18:12:27,332: INFO: common: Created directory at: artifacts/model]\n"
     ]
    }
   ],
   "source": [
    "try:\n",
    "    config = ConfigurationManager()\n",
    "    model_evaluation_config = config.get_model_evaluation_config()\n",
    "    model_trainer_config = ModelEvaluation(config=model_evaluation_config)\n",
    "    model_trainer_config.evaluate_model()\n",
    "except Exception as e:\n",
    "    raise e"
   ]
  },
  {
   "cell_type": "code",
   "execution_count": null,
   "metadata": {},
   "outputs": [],
   "source": []
  }
 ],
 "metadata": {
  "kernelspec": {
   "display_name": "Python 3",
   "language": "python",
   "name": "python3"
  },
  "language_info": {
   "codemirror_mode": {
    "name": "ipython",
    "version": 3
   },
   "file_extension": ".py",
   "mimetype": "text/x-python",
   "name": "python",
   "nbconvert_exporter": "python",
   "pygments_lexer": "ipython3",
   "version": "3.8.19"
  }
 },
 "nbformat": 4,
 "nbformat_minor": 2
}
